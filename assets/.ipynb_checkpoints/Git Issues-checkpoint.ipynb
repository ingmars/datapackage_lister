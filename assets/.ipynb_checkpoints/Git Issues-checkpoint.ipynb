{
 "cells": [
  {
   "cell_type": "markdown",
   "metadata": {},
   "source": [
    "## 5.2 Plausibility checks (not implemented)"
   ]
  },
  {
   "cell_type": "code",
   "execution_count": null,
   "metadata": {
    "collapsed": true
   },
   "outputs": [],
   "source": [
    "# pv = compact.xs(('solar'), level=('variable'), axis=1, drop_level=False)\n",
    "# pv.index = pd.MultiIndex.from_arrays([pv.index.date, pv.index.time], names=['date','time'])\n",
    "# pv\n",
    "\n",
    "# pv.groupby(level='time').max()\n",
    "\n",
    "# pv.unstack().idxmax().to_frame().unstack().transpose()"
   ]
  },
  {
   "cell_type": "markdown",
   "metadata": {},
   "source": [
    "## 5.4 Rescale load data with data from www.ag-energiebilanzen.de (not implemented)"
   ]
  },
  {
   "cell_type": "code",
   "execution_count": null,
   "metadata": {
    "collapsed": true
   },
   "outputs": [],
   "source": []
  },
  {
   "cell_type": "code",
   "execution_count": null,
   "metadata": {
    "collapsed": true
   },
   "outputs": [],
   "source": [
    "def my_interpolate(i, j, nan_region, col, col_name, marker_col, nan_regs, one_period):\n",
    "    '''\n",
    "    Interpolate one missing value region in one column as described by \n",
    "    nan_region. See choose_fill_method() for info on other parameters.\n",
    "\n",
    "    Parameters\n",
    "    ----------\n",
    "    i : int\n",
    "        Counter for total number of regions of missing data\n",
    "    j : int\n",
    "        Counter for number regions of missing data not treated by by this\n",
    "        function\n",
    "    nan_region : pandas.Series\n",
    "        Contains information on one region of missing data in col\n",
    "        count: \n",
    "        span:\n",
    "        start_idx:\n",
    "        till_idx:\n",
    "\n",
    "    Returns\n",
    "    ----------\n",
    "    col : pandas.DataFrame\n",
    "        The column with all nan_regs treated for periods shorter than 1:15.\n",
    "\n",
    "    '''\n",
    "    if i + 1 == len(nan_regs):\n",
    "        logger.info('%s : \\n\\t '\n",
    "                    'interpolated %s up-to-2-hour-spans of NaNs',\n",
    "                    col_name[0:3], i + 1 - j)\n",
    "\n",
    "    to_fill = slice(nan_region['start_idx'] - one_period,\n",
    "                    nan_region['till_idx'] + one_period)\n",
    "    to_comment = slice(nan_region['start_idx'], nan_region['till_idx'])\n",
    "\n",
    "    col.iloc[:, 0].loc[to_fill] = col.iloc[:, 0].loc[to_fill].interpolate()\n",
    "\n",
    "    #marker = ['_'.join(col_name[0:3])] * nan_region['count']\n",
    "    # import pdb; pdb.set_trace() #col.loc[col['comment'].notnull(),:]\n",
    "\n",
    "    # Create a marker column to mark where data has been interpolated\n",
    "    marker_col.loc[to_comment] = marker_col + '_'.join(col_name[0:3]) + '; '\n",
    "    #marker.str.cat(marker, sep='; ')\n",
    "    #marker.str.cat('_'.join(col_name[0:3]), sep='; ')\n",
    "    #col.loc[to_comment, 'comment'] = '_'.join(col_name[0:3])\n",
    "\n",
    "    return col, marker_col"
   ]
  },
  {
   "cell_type": "code",
   "execution_count": null,
   "metadata": {
    "collapsed": true
   },
   "outputs": [],
   "source": [
    "data_sets['60min'].head().set_index('ce(s)t-timestamp', append=True, inplace=False)\n",
    "\n",
    "    stacked = stacked.reset_index()\n",
    "    stacked.set_index('ce(s)t-timestamp', append=True, inplace=True)"
   ]
  }
 ],
 "metadata": {
  "anaconda-cloud": {},
  "kernelspec": {
   "display_name": "Python [conda env:opsd_time_series]",
   "language": "python",
   "name": "conda-env-opsd_time_series-py"
  },
  "language_info": {
   "codemirror_mode": {
    "name": "ipython",
    "version": 3
   },
   "file_extension": ".py",
   "mimetype": "text/x-python",
   "name": "python",
   "nbconvert_exporter": "python",
   "pygments_lexer": "ipython3",
   "version": "3.5.2"
  }
 },
 "nbformat": 4,
 "nbformat_minor": 1
}

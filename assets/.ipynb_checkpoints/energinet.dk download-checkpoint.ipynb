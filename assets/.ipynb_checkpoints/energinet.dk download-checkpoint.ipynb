{
 "cells": [
  {
   "cell_type": "code",
   "execution_count": 2,
   "metadata": {
    "collapsed": true
   },
   "outputs": [],
   "source": [
    "import requests\n",
    "from bs4 import BeautifulSoup\n",
    "import datetime\n",
    "import os\n",
    "import logging"
   ]
  },
  {
   "cell_type": "code",
   "execution_count": 6,
   "metadata": {
    "collapsed": false
   },
   "outputs": [
    {
     "name": "stderr",
     "output_type": "stream",
     "text": [
      "1 Extracting dotNet variables\n",
      "1 Extracting dotNet variables\n",
      "1 Extracting dotNet variables\n",
      "DEBUG:download_denmark:1 Extracting dotNet variables\n",
      "2 Constructing post parameter\n",
      "2 Constructing post parameter\n",
      "2 Constructing post parameter\n",
      "DEBUG:download_denmark:2 Constructing post parameter\n",
      "01-01-2000\n",
      "01-01-2000\n",
      "01-01-2000\n",
      "DEBUG:download_denmark:01-01-2000\n",
      "07-08-2016\n",
      "07-08-2016\n",
      "07-08-2016\n",
      "DEBUG:download_denmark:07-08-2016\n",
      "3 Downloading xls file.\n",
      "3 Downloading xls file.\n",
      "3 Downloading xls file.\n",
      "INFO:download_denmark:3 Downloading xls file.\n",
      "4 Post request headers: {'accept-language': 'de,en-US;q=0.7,en;q=0.3', 'content-type': 'application/vnd.ms-excel; charset=utf-8', 'accept': 'text/html,application/xhtml+xml,application/xml;q=0.9,*/*;q=0.8', 'connection': 'keep-alive', 'Content-Length': '47249', 'user-agent': 'Mozilla/5.0 (Windows NT 6.1; WOW64; rv:47.0) Gecko/20100101 Firefox/47.0', 'referer': 'http://www.energinet.dk/_layouts/Markedsdata/framework/integrations/markedsdatatemplate.aspx?language=en', 'accept-encoding': 'gzip, deflate'}\n",
      "4 Post request headers: {'accept-language': 'de,en-US;q=0.7,en;q=0.3', 'content-type': 'application/vnd.ms-excel; charset=utf-8', 'accept': 'text/html,application/xhtml+xml,application/xml;q=0.9,*/*;q=0.8', 'connection': 'keep-alive', 'Content-Length': '47249', 'user-agent': 'Mozilla/5.0 (Windows NT 6.1; WOW64; rv:47.0) Gecko/20100101 Firefox/47.0', 'referer': 'http://www.energinet.dk/_layouts/Markedsdata/framework/integrations/markedsdatatemplate.aspx?language=en', 'accept-encoding': 'gzip, deflate'}\n",
      "4 Post request headers: {'accept-language': 'de,en-US;q=0.7,en;q=0.3', 'content-type': 'application/vnd.ms-excel; charset=utf-8', 'accept': 'text/html,application/xhtml+xml,application/xml;q=0.9,*/*;q=0.8', 'connection': 'keep-alive', 'Content-Length': '47249', 'user-agent': 'Mozilla/5.0 (Windows NT 6.1; WOW64; rv:47.0) Gecko/20100101 Firefox/47.0', 'referer': 'http://www.energinet.dk/_layouts/Markedsdata/framework/integrations/markedsdatatemplate.aspx?language=en', 'accept-encoding': 'gzip, deflate'}\n",
      "DEBUG:download_denmark:4 Post request headers: {'accept-language': 'de,en-US;q=0.7,en;q=0.3', 'content-type': 'application/vnd.ms-excel; charset=utf-8', 'accept': 'text/html,application/xhtml+xml,application/xml;q=0.9,*/*;q=0.8', 'connection': 'keep-alive', 'Content-Length': '47249', 'user-agent': 'Mozilla/5.0 (Windows NT 6.1; WOW64; rv:47.0) Gecko/20100101 Firefox/47.0', 'referer': 'http://www.energinet.dk/_layouts/Markedsdata/framework/integrations/markedsdatatemplate.aspx?language=en', 'accept-encoding': 'gzip, deflate'}\n",
      "5 post response headers: {'Content-Type': 'application/vnd.ms-excel; charset=utf-8', 'X-MS-InvokeApp': '1; RequireReadOnly', 'Connection': 'Keep-Alive', 'X-AspNet-Version': '2.0.50727', 'Cache-Control': 'private', 'Content-Length': '628729', 'Content-Disposition': 'inline; filename=\"Markedsdata.xls\"', 'Server': 'Microsoft-IIS/7.5', 'MicrosoftSharePointTeamServices': '14.0.0.7006', 'X-Powered-By': 'ASP.NET', 'Date': 'Sun, 07 Aug 2016 08:53:15 GMT'}\n",
      "5 post response headers: {'Content-Type': 'application/vnd.ms-excel; charset=utf-8', 'X-MS-InvokeApp': '1; RequireReadOnly', 'Connection': 'Keep-Alive', 'X-AspNet-Version': '2.0.50727', 'Cache-Control': 'private', 'Content-Length': '628729', 'Content-Disposition': 'inline; filename=\"Markedsdata.xls\"', 'Server': 'Microsoft-IIS/7.5', 'MicrosoftSharePointTeamServices': '14.0.0.7006', 'X-Powered-By': 'ASP.NET', 'Date': 'Sun, 07 Aug 2016 08:53:15 GMT'}\n",
      "5 post response headers: {'Content-Type': 'application/vnd.ms-excel; charset=utf-8', 'X-MS-InvokeApp': '1; RequireReadOnly', 'Connection': 'Keep-Alive', 'X-AspNet-Version': '2.0.50727', 'Cache-Control': 'private', 'Content-Length': '628729', 'Content-Disposition': 'inline; filename=\"Markedsdata.xls\"', 'Server': 'Microsoft-IIS/7.5', 'MicrosoftSharePointTeamServices': '14.0.0.7006', 'X-Powered-By': 'ASP.NET', 'Date': 'Sun, 07 Aug 2016 08:53:15 GMT'}\n",
      "DEBUG:download_denmark:5 post response headers: {'Content-Type': 'application/vnd.ms-excel; charset=utf-8', 'X-MS-InvokeApp': '1; RequireReadOnly', 'Connection': 'Keep-Alive', 'X-AspNet-Version': '2.0.50727', 'Cache-Control': 'private', 'Content-Length': '628729', 'Content-Disposition': 'inline; filename=\"Markedsdata.xls\"', 'Server': 'Microsoft-IIS/7.5', 'MicrosoftSharePointTeamServices': '14.0.0.7006', 'X-Powered-By': 'ASP.NET', 'Date': 'Sun, 07 Aug 2016 08:53:15 GMT'}\n",
      "6 get request headers: {'accept-language': 'de,en-US;q=0.7,en;q=0.3', 'content-type': 'application/vnd.ms-excel; charset=utf-8', 'accept': 'text/html,application/xhtml+xml,application/xml;q=0.9,*/*;q=0.8', 'connection': 'keep-alive', 'user-agent': 'Mozilla/5.0 (Windows NT 6.1; WOW64; rv:47.0) Gecko/20100101 Firefox/47.0', 'referer': 'http://www.energinet.dk/_layouts/Markedsdata/framework/integrations/markedsdatatemplate.aspx?language=en', 'accept-encoding': 'gzip, deflate'}\n",
      "6 get request headers: {'accept-language': 'de,en-US;q=0.7,en;q=0.3', 'content-type': 'application/vnd.ms-excel; charset=utf-8', 'accept': 'text/html,application/xhtml+xml,application/xml;q=0.9,*/*;q=0.8', 'connection': 'keep-alive', 'user-agent': 'Mozilla/5.0 (Windows NT 6.1; WOW64; rv:47.0) Gecko/20100101 Firefox/47.0', 'referer': 'http://www.energinet.dk/_layouts/Markedsdata/framework/integrations/markedsdatatemplate.aspx?language=en', 'accept-encoding': 'gzip, deflate'}\n",
      "6 get request headers: {'accept-language': 'de,en-US;q=0.7,en;q=0.3', 'content-type': 'application/vnd.ms-excel; charset=utf-8', 'accept': 'text/html,application/xhtml+xml,application/xml;q=0.9,*/*;q=0.8', 'connection': 'keep-alive', 'user-agent': 'Mozilla/5.0 (Windows NT 6.1; WOW64; rv:47.0) Gecko/20100101 Firefox/47.0', 'referer': 'http://www.energinet.dk/_layouts/Markedsdata/framework/integrations/markedsdatatemplate.aspx?language=en', 'accept-encoding': 'gzip, deflate'}\n",
      "DEBUG:download_denmark:6 get request headers: {'accept-language': 'de,en-US;q=0.7,en;q=0.3', 'content-type': 'application/vnd.ms-excel; charset=utf-8', 'accept': 'text/html,application/xhtml+xml,application/xml;q=0.9,*/*;q=0.8', 'connection': 'keep-alive', 'user-agent': 'Mozilla/5.0 (Windows NT 6.1; WOW64; rv:47.0) Gecko/20100101 Firefox/47.0', 'referer': 'http://www.energinet.dk/_layouts/Markedsdata/framework/integrations/markedsdatatemplate.aspx?language=en', 'accept-encoding': 'gzip, deflate'}\n",
      "7 get response headers: {'Content-Type': 'application/vnd.ms-excel; charset=utf-8', 'X-MS-InvokeApp': '1; RequireReadOnly', 'Connection': 'Keep-Alive', 'X-AspNet-Version': '2.0.50727', 'Cache-Control': 'private', 'Content-Length': '628729', 'Content-Disposition': 'inline; filename=\"Markedsdata.xls\"', 'Server': 'Microsoft-IIS/7.5', 'MicrosoftSharePointTeamServices': '14.0.0.7006', 'X-Powered-By': 'ASP.NET', 'Date': 'Sun, 07 Aug 2016 08:53:15 GMT'}\n",
      "7 get response headers: {'Content-Type': 'application/vnd.ms-excel; charset=utf-8', 'X-MS-InvokeApp': '1; RequireReadOnly', 'Connection': 'Keep-Alive', 'X-AspNet-Version': '2.0.50727', 'Cache-Control': 'private', 'Content-Length': '628729', 'Content-Disposition': 'inline; filename=\"Markedsdata.xls\"', 'Server': 'Microsoft-IIS/7.5', 'MicrosoftSharePointTeamServices': '14.0.0.7006', 'X-Powered-By': 'ASP.NET', 'Date': 'Sun, 07 Aug 2016 08:53:15 GMT'}\n",
      "7 get response headers: {'Content-Type': 'application/vnd.ms-excel; charset=utf-8', 'X-MS-InvokeApp': '1; RequireReadOnly', 'Connection': 'Keep-Alive', 'X-AspNet-Version': '2.0.50727', 'Cache-Control': 'private', 'Content-Length': '628729', 'Content-Disposition': 'inline; filename=\"Markedsdata.xls\"', 'Server': 'Microsoft-IIS/7.5', 'MicrosoftSharePointTeamServices': '14.0.0.7006', 'X-Powered-By': 'ASP.NET', 'Date': 'Sun, 07 Aug 2016 08:53:15 GMT'}\n",
      "DEBUG:download_denmark:7 get response headers: {'Content-Type': 'application/vnd.ms-excel; charset=utf-8', 'X-MS-InvokeApp': '1; RequireReadOnly', 'Connection': 'Keep-Alive', 'X-AspNet-Version': '2.0.50727', 'Cache-Control': 'private', 'Content-Length': '628729', 'Content-Disposition': 'inline; filename=\"Markedsdata.xls\"', 'Server': 'Microsoft-IIS/7.5', 'MicrosoftSharePointTeamServices': '14.0.0.7006', 'X-Powered-By': 'ASP.NET', 'Date': 'Sun, 07 Aug 2016 08:53:15 GMT'}\n",
      "Download completed\n",
      "Download completed\n",
      "Download completed\n",
      "INFO:download_denmark:Download completed\n"
     ]
    }
   ],
   "source": [
    "\n",
    "__author__ = 'Jan'\n",
    "\"\"\"\n",
    "To download the xls for Denmark, just call the download_xls_file() in the notebook.\n",
    "TODO: Sometimes the server returns a malformed table! Investigate if the code/request is wrong or the server code\n",
    "    is not done properly.\n",
    "\"\"\"\n",
    "import requests\n",
    "from bs4 import BeautifulSoup\n",
    "import datetime\n",
    "import os\n",
    "import logging\n",
    "\n",
    "log = logging.getLogger('download_denmark')\n",
    "log.setLevel(logging.INFO)\n",
    "\n",
    "_TARGET_URL = r'http://www.energinet.dk/en/el/engrosmarked/udtraek-af-markedsdata/Sider/default.aspx?language=en'\n",
    "_REQUEST_URL = r'http://www.energinet.dk/_layouts/Markedsdata/Framework/Integrations/MarkedsdataExcelOutput.aspx'\n",
    "_POST_PARAMETER_FILE = 'post_parameter.txt'\n",
    "\n",
    "\n",
    "def _extract_dotNet_variables():\n",
    "    log.debug('1 Extracting dotNet variables')\n",
    "    s = requests.Session()\n",
    "    r = s.get(_TARGET_URL)\n",
    "    if r.status_code != 200:\n",
    "        raise requests.ConnectionError\n",
    "\n",
    "    soup = BeautifulSoup(r.content, 'lxml')\n",
    "    # extract viewstate\n",
    "    view_state = soup.select('#__VIEWSTATE')[0]['value']\n",
    "    # extract event validation\n",
    "    event_validation = soup.select('#__EVENTVALIDATION')[0]['value']\n",
    "    return view_state, event_validation, s\n",
    "\n",
    "\n",
    "def _construct_parameter(view_state, event_validation, file_path):\n",
    "    log.debug('2 Constructing post parameter')\n",
    "    parameter = {}\n",
    "    with open(file_path, 'r') as para_file:\n",
    "        lines = para_file.read().splitlines()\n",
    "        # last element is endDate. It has to be changed to current date\n",
    "        current_time = datetime.datetime.now()\n",
    "        current_date = current_time.strftime(\"%d-%m-%Y\")\n",
    "        lines[-1] = 'endDate=' + current_date\n",
    "        # split lines into dictionary\n",
    "        for key_value in lines:\n",
    "            try:\n",
    "                key, value = key_value.split('=')\n",
    "                parameter[key] = value\n",
    "            except:\n",
    "                log.warning('Error: ' + key_value)\n",
    "\n",
    "        # add view_state and event_validation\n",
    "        parameter['__VIEWSTATE'] = view_state\n",
    "        parameter['__EVENTVALIDATION'] = event_validation\n",
    "        log.debug(parameter['startDate'])\n",
    "        log.debug(parameter['endDate'])\n",
    "\n",
    "        return parameter\n",
    "\n",
    "\n",
    "def _download_excel(parameter, session, output_path):\n",
    "    \"\"\"\n",
    "    This function downloads the xls file from the website. To download, you have to send a post request with parameters\n",
    "    that specify the data you want first. After that you request the xls/html file.\n",
    "    Parameters\n",
    "    ----------\n",
    "    parameter : Specifies the data (ASP.NET Web Form)\n",
    "    session : The session that was used for extracting the variables\n",
    "    output_path : Defines the location for the downloaded xls file\n",
    "    Returns\n",
    "    -------\n",
    "    \"\"\"\n",
    "    log.info('3 Downloading xls file.')\n",
    "    header = {\n",
    "        'referer': r'http://www.energinet.dk/_layouts/Markedsdata/framework/integrations/markedsdatatemplate.aspx?language=en',\n",
    "        'content-type': 'application/vnd.ms-excel; charset=utf-8',\n",
    "        'accept-language': 'de,en-US;q=0.7,en;q=0.3',\n",
    "        'accept-encoding': 'gzip, deflate',\n",
    "        'accept': 'text/html,application/xhtml+xml,application/xml;q=0.9,*/*;q=0.8',\n",
    "        'user-agent': 'Mozilla/5.0 (Windows NT 6.1; WOW64; rv:47.0) Gecko/20100101 Firefox/47.0',\n",
    "        'connection': 'keep-alive'\n",
    "    }\n",
    "\n",
    "    # Specifies the data you want.\n",
    "    p = session.post(_REQUEST_URL, data=parameter, headers=header)\n",
    "    log.debug('4 Post request headers: '+ str(p.request.headers))\n",
    "    log.debug('5 post response headers: ' + str(p.headers))\n",
    "\n",
    "    # Gets the data you want.\n",
    "    r = session.get(_REQUEST_URL, stream=True, headers=header)\n",
    "    log.debug('6 get request headers: ' + str(r.request.headers))\n",
    "    log.debug('7 get response headers: ' + str(r.headers))\n",
    "    with open(output_path, 'wb') as out_file:\n",
    "        for chunk in r.iter_content(chunk_size=1024):\n",
    "            out_file.write(chunk)\n",
    "\n",
    "    log.info('8 Download completed')\n",
    "\n",
    "\n",
    "def download_xls_file(output_directory='', output_file_name='danish2.xls'):\n",
    "    \"\"\"\n",
    "    Prepares the parameters and downloads the xls file.\n",
    "    Parameters\n",
    "    ----------\n",
    "    output_directory : Directory where the xls file is saved.\n",
    "    output_file_name : Name of the downloaded file.\n",
    "    Returns\n",
    "    -------\n",
    "    \"\"\"\n",
    "    #loc = os.path.realpath(os.path.join(os.getcwd(), os.path.dirname(__file__)))\n",
    "    para_path = 'post_parameter.txt' #os.path.join(loc, _POST_PARAMETER_FILE)\n",
    "    output_path = os.path.join(output_directory, output_file_name)\n",
    "    view, event, session = _extract_dotNet_variables()\n",
    "    parameter_dict = _construct_parameter(view, event, para_path)\n",
    "    _download_excel(parameter_dict, session, output_path)\n",
    "\n",
    "\n",
    "if __name__ == '__main__':\n",
    "    log.addHandler(logging.StreamHandler())\n",
    "    log.setLevel(logging.DEBUG)\n",
    "download_xls_file()"
   ]
  },
  {
   "cell_type": "code",
   "execution_count": 3,
   "metadata": {
    "collapsed": false,
    "scrolled": true
   },
   "outputs": [
    {
     "ename": "NameError",
     "evalue": "name '__file__' is not defined",
     "output_type": "error",
     "traceback": [
      "\u001b[1;31m---------------------------------------------------------------------------\u001b[0m",
      "\u001b[1;31mNameError\u001b[0m                                 Traceback (most recent call last)",
      "\u001b[1;32m<ipython-input-3-fa7edf70cad6>\u001b[0m in \u001b[0;36m<module>\u001b[1;34m()\u001b[0m\n\u001b[1;32m----> 1\u001b[1;33m \u001b[0mos\u001b[0m\u001b[1;33m.\u001b[0m\u001b[0mpath\u001b[0m\u001b[1;33m.\u001b[0m\u001b[0mrealpath\u001b[0m\u001b[1;33m(\u001b[0m\u001b[0mos\u001b[0m\u001b[1;33m.\u001b[0m\u001b[0mpath\u001b[0m\u001b[1;33m.\u001b[0m\u001b[0mjoin\u001b[0m\u001b[1;33m(\u001b[0m\u001b[0mos\u001b[0m\u001b[1;33m.\u001b[0m\u001b[0mgetcwd\u001b[0m\u001b[1;33m(\u001b[0m\u001b[1;33m)\u001b[0m\u001b[1;33m,\u001b[0m \u001b[0mos\u001b[0m\u001b[1;33m.\u001b[0m\u001b[0mpath\u001b[0m\u001b[1;33m.\u001b[0m\u001b[0mdirname\u001b[0m\u001b[1;33m(\u001b[0m\u001b[0m__file__\u001b[0m\u001b[1;33m)\u001b[0m\u001b[1;33m)\u001b[0m\u001b[1;33m)\u001b[0m\u001b[1;33m\u001b[0m\u001b[0m\n\u001b[0m",
      "\u001b[1;31mNameError\u001b[0m: name '__file__' is not defined"
     ]
    }
   ],
   "source": [
    "os.path.realpath(os.path.join(os.getcwd(), os.path.dirname(__file__)))"
   ]
  },
  {
   "cell_type": "code",
   "execution_count": 9,
   "metadata": {
    "collapsed": true
   },
   "outputs": [],
   "source": [
    "from pytz import timezone as tz"
   ]
  },
  {
   "cell_type": "code",
   "execution_count": 7,
   "metadata": {
    "collapsed": true
   },
   "outputs": [],
   "source": [
    "start = datetime.datetime.now()"
   ]
  },
  {
   "cell_type": "code",
   "execution_count": 12,
   "metadata": {
    "collapsed": false
   },
   "outputs": [],
   "source": [
    "start2 = (\n",
    "    tz('Europe/Brussels')\n",
    "    .localize(datetime.datetime.combine(start, datetime.time()))\n",
    "    .astimezone(tz('UTC'))\n",
    ")"
   ]
  },
  {
   "cell_type": "code",
   "execution_count": 20,
   "metadata": {
    "collapsed": false
   },
   "outputs": [
    {
     "data": {
      "text/plain": [
       "datetime.datetime(2016, 8, 7, 11, 54, 40, 806777)"
      ]
     },
     "execution_count": 20,
     "metadata": {},
     "output_type": "execute_result"
    }
   ],
   "source": [
    "datetime.datetime.today()#.date()"
   ]
  },
  {
   "cell_type": "code",
   "execution_count": 25,
   "metadata": {
    "collapsed": false
   },
   "outputs": [
    {
     "data": {
      "text/plain": [
       "datetime.datetime(2016, 8, 6, 22, 0, tzinfo=<UTC>)"
      ]
     },
     "execution_count": 25,
     "metadata": {},
     "output_type": "execute_result"
    }
   ],
   "source": [
    "(tz('Europe/Brussels')\n",
    " .localize(datetime.datetime.combine(start, datetime.time()))\n",
    " .astimezone(tz('UTC')))"
   ]
  },
  {
   "cell_type": "code",
   "execution_count": 26,
   "metadata": {
    "collapsed": false
   },
   "outputs": [
    {
     "data": {
      "text/plain": [
       "datetime.datetime(2016, 8, 7, 11, 15, 53, 172608)"
      ]
     },
     "execution_count": 26,
     "metadata": {},
     "output_type": "execute_result"
    }
   ],
   "source": [
    "start"
   ]
  },
  {
   "cell_type": "code",
   "execution_count": 32,
   "metadata": {
    "collapsed": false
   },
   "outputs": [
    {
     "data": {
      "text/plain": [
       "datetime.datetime(2016, 8, 7, 10, 29, 7, 103477, tzinfo=<UTC>)"
      ]
     },
     "execution_count": 32,
     "metadata": {},
     "output_type": "execute_result"
    }
   ],
   "source": [
    "tz('Europe/Brussels').localize(datetime.datetime.now()).astimezone(tz('UTC'))"
   ]
  },
  {
   "cell_type": "code",
   "execution_count": 33,
   "metadata": {
    "collapsed": false
   },
   "outputs": [
    {
     "data": {
      "text/plain": [
       "datetime.datetime(2016, 8, 7, 12, 29, 29, 325460)"
      ]
     },
     "execution_count": 33,
     "metadata": {},
     "output_type": "execute_result"
    }
   ],
   "source": [
    "datetime.datetime.now()"
   ]
  },
  {
   "cell_type": "code",
   "execution_count": 36,
   "metadata": {
    "collapsed": false,
    "scrolled": true
   },
   "outputs": [
    {
     "data": {
      "text/plain": [
       "{'DE European Power Exchange': ('price', 'DE', 'EPEX', 'Energinet.dk', 'URL'),\n",
       " 'DK-East': ('price', 'DKw', 'Elspot', 'Energinet.dk', 'URL'),\n",
       " 'DK-East: Solar cell production (estimated)': ('solar',\n",
       "  'DKe',\n",
       "  'generation',\n",
       "  'Energinet.dk',\n",
       "  'URL'),\n",
       " 'DK-East: Wind power production': ('wind',\n",
       "  'DKe',\n",
       "  'generation',\n",
       "  'Energinet.dk',\n",
       "  'URL'),\n",
       " 'DK-West': ('price', 'DKw', 'Elspot', 'Energinet.dk', 'URL'),\n",
       " 'DK-West: Solar cell production (estimated)': ('solar',\n",
       "  'Dke',\n",
       "  'generation',\n",
       "  'Energinet.dk',\n",
       "  'URL'),\n",
       " 'DK-West: Wind power production': ('wind',\n",
       "  'DKw',\n",
       "  'generation',\n",
       "  'Energinet.dk',\n",
       "  'URL'),\n",
       " 'DK: Wind power production (offshore)': ('wind',\n",
       "  'DK',\n",
       "  'offshore',\n",
       "  'Energinet.dk',\n",
       "  'URL'),\n",
       " 'DK: Wind power production (onshore)': ('wind',\n",
       "  'DK',\n",
       "  'onshore',\n",
       "  'Energinet.dk',\n",
       "  'URL'),\n",
       " 'Norway': ('price', 'NO', 'Elspot', 'Energinet.dk', 'URL'),\n",
       " 'Sweden (SE)': ('price', 'SE', 'Elspot', 'Energinet.dk', 'URL'),\n",
       " 'Sweden (SE3)': ('price', 'SE3', 'Elspot', 'Energinet.dk', 'URL'),\n",
       " 'Sweden (SE4)': ('price', 'SE4', 'Elspot', 'Energinet.dk', 'URL')}"
      ]
     },
     "execution_count": 36,
     "metadata": {},
     "output_type": "execute_result"
    }
   ],
   "source": [
    "url = 'URL'\n",
    "source = 'Energinet.dk'\n",
    "colmap = {\n",
    "    'DK-West': \n",
    "        ('price', 'DKw', 'Elspot', source, url),\n",
    "    'DK-East': \n",
    "        ('price', 'DKw', 'Elspot', source, url),\n",
    "    'Norway': \n",
    "        ('price', 'NO', 'Elspot', source, url),\n",
    "    'Sweden (SE)': \n",
    "        ('price', 'SE', 'Elspot', source, url),\n",
    "    'Sweden (SE3)': \n",
    "        ('price', 'SE3', 'Elspot', source, url),\n",
    "    'Sweden (SE4)': \n",
    "        ('price', 'SE4', 'Elspot', source, url),\n",
    "    'DE European Power Exchange': \n",
    "        ('price', 'DE', 'EPEX', source, url),\n",
    "    'DK-West: Wind power production': \n",
    "        ('wind', 'DKw', 'generation', source, url),\n",
    "    'DK-West: Solar cell production (estimated)': \n",
    "        ('solar', 'Dke', 'generation', source, url),\n",
    "    'DK-East: Wind power production': \n",
    "        ('wind', 'DKe', 'generation', source, url),\n",
    "    'DK-East: Solar cell production (estimated)': \n",
    "        ('solar', 'DKe', 'generation', source, url),\n",
    "    'DK: Wind power production (onshore)': \n",
    "        ('wind', 'DK', 'onshore', source, url),\n",
    "    'DK: Wind power production (offshore)': \n",
    "        ('wind', 'DK', 'offshore', source, url)\n",
    "}\n",
    "colmap"
   ]
  },
  {
   "cell_type": "code",
   "execution_count": null,
   "metadata": {
    "collapsed": true
   },
   "outputs": [],
   "source": [
    "        df = df[~((df['date'] == '2012-03-25') & ((df['pos'] == 8) | (df['pos'] == 10)))]"
   ]
  },
  {
   "cell_type": "code",
   "execution_count": 51,
   "metadata": {
    "collapsed": false,
    "scrolled": true
   },
   "outputs": [
    {
     "name": "stdout",
     "output_type": "stream",
     "text": [
      "what\thello\tagain\t\tstill\n"
     ]
    }
   ],
   "source": [
    "print('what\\thello\\tagain\\t\\tstill')"
   ]
  },
  {
   "cell_type": "code",
   "execution_count": 58,
   "metadata": {
    "collapsed": false
   },
   "outputs": [
    {
     "ename": "ValueError",
     "evalue": "too many values to unpack (expected 2)",
     "output_type": "error",
     "traceback": [
      "\u001b[1;31m---------------------------------------------------------------------------\u001b[0m",
      "\u001b[1;31mValueError\u001b[0m                                Traceback (most recent call last)",
      "\u001b[1;32m<ipython-input-58-2e4b8f70b240>\u001b[0m in \u001b[0;36m<module>\u001b[1;34m()\u001b[0m\n\u001b[0;32m      1\u001b[0m \u001b[0mtech_attribute\u001b[0m \u001b[1;33m=\u001b[0m \u001b[1;34m'wind_generation_with-offshore'\u001b[0m\u001b[1;33m\u001b[0m\u001b[0m\n\u001b[1;32m----> 2\u001b[1;33m \u001b[0mx\u001b[0m\u001b[1;33m,\u001b[0m \u001b[0my\u001b[0m \u001b[1;33m=\u001b[0m \u001b[0mtech_attribute\u001b[0m\u001b[1;33m.\u001b[0m\u001b[0msplit\u001b[0m\u001b[1;33m(\u001b[0m\u001b[1;34m'_'\u001b[0m\u001b[1;33m)\u001b[0m\u001b[1;33m\u001b[0m\u001b[0m\n\u001b[0m",
      "\u001b[1;31mValueError\u001b[0m: too many values to unpack (expected 2)"
     ]
    }
   ],
   "source": [
    "tech_attribute = 'wind_generation_with-offshore'\n",
    "x, y = tech_attribute.split('_')"
   ]
  },
  {
   "cell_type": "code",
   "execution_count": 62,
   "metadata": {
    "collapsed": false
   },
   "outputs": [
    {
     "data": {
      "text/plain": [
       "['DE European Power Exchange',\n",
       " 'Sweden (SE4)',\n",
       " 'Norway',\n",
       " 'DK-West: Solar cell production (estimated)',\n",
       " 'DK: Wind power production (offshore)',\n",
       " 'DK-West: Wind power production',\n",
       " 'DK-East: Wind power production',\n",
       " 'DK: Wind power production (onshore)',\n",
       " 'Sweden (SE3)',\n",
       " 'DK-East: Solar cell production (estimated)',\n",
       " 'DK-East',\n",
       " 'Sweden (SE)',\n",
       " 'DK-West']"
      ]
     },
     "execution_count": 62,
     "metadata": {},
     "output_type": "execute_result"
    }
   ],
   "source": [
    "colmap = {\n",
    "    'DK-West': \n",
    "        ('price', 'DKw', 'Elspot', source, url),\n",
    "    'DK-East': \n",
    "        ('price', 'DKw', 'Elspot', source, url),\n",
    "    'Norway': \n",
    "        ('price', 'NO', 'Elspot', source, url),\n",
    "    'Sweden (SE)': \n",
    "        ('price', 'SE', 'Elspot', source, url),\n",
    "    'Sweden (SE3)': \n",
    "        ('price', 'SE3', 'Elspot', source, url),\n",
    "    'Sweden (SE4)': \n",
    "        ('price', 'SE4', 'Elspot', source, url),\n",
    "    'DE European Power Exchange': \n",
    "        ('price', 'DE', 'EPEX', source, url),\n",
    "    'DK-West: Wind power production': \n",
    "        ('wind-total', 'DKwest', 'generation', source, url),\n",
    "    'DK-West: Solar cell production (estimated)': \n",
    "        ('solar', 'Dkwest', 'generation', source, url),\n",
    "    'DK-East: Wind power production': \n",
    "        ('wind-total', 'DKeast', 'generation', source, url),\n",
    "    'DK-East: Solar cell production (estimated)': \n",
    "        ('solar', 'DKeast', 'generation', source, url),\n",
    "    'DK: Wind power production (onshore)': \n",
    "        ('wind-onshore', 'DK', 'generation', source, url),\n",
    "    'DK: Wind power production (offshore)': \n",
    "        ('wind-offshore', 'DK', 'generation', source, url)\n",
    "}\n",
    "\n",
    "list(colmap.keys())"
   ]
  }
 ],
 "metadata": {
  "kernelspec": {
   "display_name": "Python 3",
   "language": "python",
   "name": "python3"
  },
  "language_info": {
   "codemirror_mode": {
    "name": "ipython",
    "version": 3
   },
   "file_extension": ".py",
   "mimetype": "text/x-python",
   "name": "python",
   "nbconvert_exporter": "python",
   "pygments_lexer": "ipython3",
   "version": "3.5.1"
  }
 },
 "nbformat": 4,
 "nbformat_minor": 0
}

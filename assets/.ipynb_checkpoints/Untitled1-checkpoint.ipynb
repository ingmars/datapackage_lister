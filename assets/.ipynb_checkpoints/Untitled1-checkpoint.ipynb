{
 "cells": [
  {
   "cell_type": "code",
   "execution_count": 17,
   "metadata": {
    "collapsed": true
   },
   "outputs": [],
   "source": [
    "from datetime import datetime, date, time, timedelta\n",
    "import pytz\n",
    "import logging\n",
    "import os\n",
    "import zipfile\n",
    "import pandas as pd\n",
    "import requests\n",
    "import yaml\n",
    "\n",
    "logger = logging.getLogger('log')\n",
    "logger.setLevel('INFO')\n",
    "\n",
    "filepath = 'original_data.zip'"
   ]
  },
  {
   "cell_type": "code",
   "execution_count": 2,
   "metadata": {
    "collapsed": true
   },
   "outputs": [],
   "source": [
    "resp = requests.get('http://data.open-power-system-data.org/time_series/2016-07-14/original_data/original_data.zip')"
   ]
  },
  {
   "cell_type": "code",
   "execution_count": 3,
   "metadata": {
    "collapsed": true
   },
   "outputs": [],
   "source": [
    "with open(filepath, 'wb') as output_file:\n",
    "    for chunk in resp.iter_content(1024):\n",
    "        output_file.write(chunk)"
   ]
  },
  {
   "cell_type": "code",
   "execution_count": 22,
   "metadata": {
    "collapsed": false
   },
   "outputs": [],
   "source": [
    "all_data = zipfile.ZipFile(filepath)"
   ]
  },
  {
   "cell_type": "code",
   "execution_count": 26,
   "metadata": {
    "collapsed": false
   },
   "outputs": [],
   "source": [
    "all_data.close()"
   ]
  },
  {
   "cell_type": "code",
   "execution_count": 15,
   "metadata": {
    "collapsed": true
   },
   "outputs": [],
   "source": [
    "def read(sources_yaml_path, out_path, headers, subset=None):\n",
    "    \"\"\"\n",
    "    For the sources specified in the sources.yml file, pass each downloaded\n",
    "    file to the correct read function.\n",
    "    Parameters\n",
    "    ----------\n",
    "    sources_yaml_path : str\n",
    "        Filepath of sources.yml\n",
    "    out_path : str\n",
    "        Base download directory in which to save all downloaded files.    \n",
    "    headers : list\n",
    "        List of strings indicating the level names of the pandas.MultiIndex\n",
    "        for the columns of the dataframe.\n",
    "    subset : list or iterable, optional\n",
    "        If given, specifies a subset of data sources to download,\n",
    "        e.g.: ['TenneT', '50Hertz'].\n",
    "        \n",
    "    \"\"\"\n",
    "#    data_sets = {'15min': pd.DataFrame(), '60min': pd.DataFrame()}\n",
    "\n",
    "    with open(sources_yaml_path, 'r') as f:\n",
    "        sources = yaml.load(f.read())\n",
    "\n",
    "    # If subset is given, only keep source_name keys in subset\n",
    "    if subset:\n",
    "        sources = {k: v for k, v in sources.items() if k in subset}\n",
    "\n",
    "    i = 0\n",
    "    \n",
    "    # For each source in the source dictionary\n",
    "    for source_name, source_dict in sources.items():\n",
    "        # For each variable from source_name\n",
    "        for variable_name, param_dict in source_dict.items():\n",
    "            variable_dir = os.path.join(out_path, source_name, variable_name)\n",
    "            # Check if there are folders for variable_name\n",
    "            if not os.path.exists(variable_dir):\n",
    "                logger.info('folder not found for %s, %s', source_name, variable_name)\n",
    "            else:\n",
    "                # For each file downloaded for that variable\n",
    "                for container in os.listdir(variable_dir):\n",
    "                    files = os.listdir(os.path.join(variable_dir, container))\n",
    "                    # Check if there is only one file per folder\n",
    "                    if len(files) == 0:\n",
    "                        logger.info('error: found no file  in %s %s %s', # JONATHAN Or less?\n",
    "                                    source_name, variable_name, container)\n",
    "                    elif len(files) > 1:\n",
    "                        logger.info('error: found more than one file in %s %s %s', # JONATHAN Or less?\n",
    "                                    source_name, variable_name, container)\n",
    "                    else:  i += 1\n",
    "    return i"
   ]
  },
  {
   "cell_type": "code",
   "execution_count": 18,
   "metadata": {
    "collapsed": false
   },
   "outputs": [
    {
     "name": "stderr",
     "output_type": "stream",
     "text": [
      "INFO:log:folder not found for ENTSO-E Data Portal, load\n",
      "INFO:log:folder not found for APG, generation_by_source\n",
      "INFO:log:error: found no file  in OPSD capacities 2005-01-01_2016-05-31\n",
      "INFO:log:folder not found for Fingrid, wind\n",
      "INFO:log:folder not found for RTE, wind_solar\n",
      "INFO:log:folder not found for source, variable\n",
      "INFO:log:folder not found for OeMag, wind_1\n",
      "INFO:log:folder not found for OeMag, wind_3\n",
      "INFO:log:folder not found for OeMag, wind_2\n"
     ]
    },
    {
     "data": {
      "text/plain": [
       "2092"
      ]
     },
     "execution_count": 18,
     "metadata": {},
     "output_type": "execute_result"
    }
   ],
   "source": [
    "headers = ['variable', 'region', 'attribute', 'source', 'web']\n",
    "out_path = 'original_data'\n",
    "sources_yaml_path = 'input_parameters/sources.yml'\n",
    "read(sources_yaml_path, out_path, headers, subset=None)"
   ]
  }
 ],
 "metadata": {
  "kernelspec": {
   "display_name": "Python [conda env:time_series_2016-10-05]",
   "language": "python",
   "name": "conda-env-time_series_2016-10-05-py"
  },
  "language_info": {
   "codemirror_mode": {
    "name": "ipython",
    "version": 3
   },
   "file_extension": ".py",
   "mimetype": "text/x-python",
   "name": "python",
   "nbconvert_exporter": "python",
   "pygments_lexer": "ipython3",
   "version": "3.5.2"
  }
 },
 "nbformat": 4,
 "nbformat_minor": 1
}

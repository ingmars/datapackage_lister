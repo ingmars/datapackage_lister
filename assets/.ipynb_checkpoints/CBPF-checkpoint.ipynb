{
 "cells": [
  {
   "cell_type": "code",
   "execution_count": 1,
   "metadata": {
    "collapsed": true
   },
   "outputs": [],
   "source": [
    "from __future__ import print_function\n",
    "\n",
    "from operator import itemgetter\n",
    "from six.moves import map, range\n",
    "from six import iteritems, iterkeys\n",
    "from itertools import chain\n",
    "#from StringIO import StringIO\n",
    "from io import StringIO\n",
    "\n",
    "import requests\n",
    "from bs4 import BeautifulSoup\n",
    "import networkx as nx\n",
    "import time, re\n",
    "import pandas as pd"
   ]
  },
  {
   "cell_type": "code",
   "execution_count": 24,
   "metadata": {
    "collapsed": true
   },
   "outputs": [],
   "source": [
    "creds = {'j_username': '<username>',\n",
    "         'j_password': '<password>'}\n",
    "\n",
    "creds = {'j_username': 'xeC7sezHQ8b0',\n",
    "         'j_password': 'muehlenpfordt@neon-energie.de'}"
   ]
  },
  {
   "cell_type": "code",
   "execution_count": 18,
   "metadata": {
    "collapsed": false
   },
   "outputs": [],
   "source": [
    "years = list(range(2015, 2017))\n",
    "loginurl = 'https://transparency.entsoe.eu/j_spring_security_check'\n",
    "showurl = 'https://transparency.entsoe.eu/transmission-domain/physicalFlow/show'\n",
    "exporturl = 'https://transparency.entsoe.eu/transmission-domain/physicalFlow/export'\n",
    "params = {'name': '',\n",
    "          'defaultValue': 'false',\n",
    "          'viewType': 'TABLE',\n",
    "          'areaType': 'BORDER_CTY',\n",
    "          'atch': 'false',\n",
    "          'dateTime.timezone': 'UTC',\n",
    "          'dateTime.timezone_input': 'UTC'}\n",
    "exportparams = dict(chain(iteritems(params),\n",
    "                          iteritems({'dataItem': 'NET_CROSS_BORDER_PHYSICAL_FLOWS',\n",
    "                                     'timeRange': 'YEAR',\n",
    "                                     'exportType': 'CSV',\n",
    "                                     'border.values': None} # <- needs to be updated for each border\n",
    "                                   )))"
   ]
  },
  {
   "cell_type": "code",
   "execution_count": 15,
   "metadata": {
    "collapsed": false
   },
   "outputs": [
    {
     "name": "stdout",
     "output_type": "stream",
     "text": [
      "Logging in\n",
      "(0/74) Edge BE->FR : 2015 2016 .\n",
      "(1/74) Edge BE->NL : 2015 2016 .\n",
      "(2/74) Edge FR->CH : 2015 2016 .\n",
      "(3/74) Edge FR->DE : 2015 2016 .\n",
      "(4/74) Edge FR->IT : 2015 2016 .\n",
      "(5/74) Edge FR->UK : 2015 2016 .\n",
      "(6/74) Edge FR->ES : 2015 2016 .\n",
      "(7/74) Edge BG->RO : 2015 2016 .\n",
      "(8/74) Edge BG->TR : 2015 2016 .\n",
      "(9/74) Edge BG->GR : 2015 2016 .\n",
      "(10/74) Edge BG->MK : 2015 2016 .\n",
      "(11/74) Edge BG->RS : 2015 2016 .\n",
      "(12/74) Edge DK->DE : 2015 2016 .\n",
      "(13/74) Edge DK->SE : 2015 2016 .\n",
      "(14/74) Edge DK->NO : 2015 2016 .\n",
      "(15/74) Edge HR->SI : 2015 2016 .\n",
      "(16/74) Edge HR->HU : 2015 2016 .\n",
      "(17/74) Edge HR->BA : 2015 2016 .\n",
      "(18/74) Edge HR->RS : 2015 2016 .\n",
      "(19/74) Edge DE->CH : 2015 2016 .\n",
      "(20/74) Edge DE->NL : 2015 2016 .\n",
      "(21/74) Edge DE->CZ : 2015 2016 .\n",
      "(22/74) Edge DE->LU : 2015 2016 .\n",
      "(23/74) Edge DE->AT : 2015 2016 .\n",
      "(24/74) Edge DE->SE : 2015 2016 .\n",
      "(25/74) Edge DE->PL : 2015 2016 .\n",
      "(26/74) Edge HU->RS : 2015 2016 .\n",
      "(27/74) Edge HU->SK : 2015 2016 .\n",
      "(28/74) Edge HU->AT : 2015 2016 .\n",
      "(29/74) Edge HU->RO : 2015 2016 .\n",
      "(30/74) Edge HU->UA : 2015 2016 .\n",
      "(31/74) Edge FI->EE : 2015 2016 .\n",
      "(32/74) Edge FI->RU : 2015 2016 .\n",
      "(33/74) Edge FI->SE : 2015 2016 .\n",
      "(34/74) Edge FI->NO : 2015 2016 .\n",
      "(35/74) Edge BY->LT : 2015 2016 .\n",
      "(36/74) Edge BA->ME : 2015 2016 .\n",
      "(37/74) Edge BA->RS : 2015 2016 .\n",
      "(38/74) Edge RU->LV : 2015 2016 .\n",
      "(39/74) Edge RU->EE : 2015 2016 .\n",
      "(40/74) Edge RU->LT : 2015 2016 .\n",
      "(41/74) Edge NL->UK : 2015 2016 .\n",
      "(42/74) Edge NL->NO : 2015 2016 .\n",
      "(43/74) Edge PT->ES : 2015 2016 .\n",
      "(44/74) Edge RS->ME : 2015 2016 .\n",
      "(45/74) Edge RS->AL : 2015 2016 .\n",
      "(46/74) Edge RS->MK : 2015 2016 .\n",
      "(47/74) Edge RS->RO : 2015 2016 .\n",
      "(48/74) Edge TR->GR : 2015 2016 .\n",
      "(49/74) Edge LV->EE : 2015 2016 .\n",
      "(50/74) Edge LV->LT : 2015 2016 .\n",
      "(51/74) Edge LT->SE : 2015 2016 .\n",
      "(52/74) Edge LT->PL : 2015 2016 .\n",
      "(53/74) Edge RO->MD : 2015 2016 .\n",
      "(54/74) Edge RO->UA : 2015 2016 .\n",
      "(55/74) Edge PL->SK : 2015 2016 .\n",
      "(56/74) Edge PL->CZ : 2015 2016 .\n",
      "(57/74) Edge PL->UA : 2015 2016 .\n",
      "(58/74) Edge PL->SE : 2015 2016 .\n",
      "(59/74) Edge CH->AT : 2015 2016 .\n",
      "(60/74) Edge CH->IT : 2015 2016 .\n",
      "(61/74) Edge GR->AL : 2015 2016 .\n",
      "(62/74) Edge GR->MK : 2015 2016 .\n",
      "(63/74) Edge GR->IT : 2015 2016 .\n",
      "(64/74) Edge AL->ME : 2015 2016 .\n",
      "(65/74) Edge IT->MT : 2015 2016 .\n",
      "(66/74) Edge IT->SI : 2015 2016 .\n",
      "(67/74) Edge IT->AT : 2015 2016 .\n",
      "(68/74) Edge CZ->SK : 2015 2016 .\n",
      "(69/74) Edge CZ->AT : 2015 2016 .\n",
      "(70/74) Edge AT->SI : 2015 2016 .\n",
      "(71/74) Edge IE->UK : 2015 2016 .\n",
      "(72/74) Edge NO->SE : 2015 2016 .\n",
      "(73/74) Edge SK->UA : 2015 2016 .\n"
     ]
    }
   ],
   "source": [
    "flows = {}\n",
    "\n",
    "with requests.Session() as s:\n",
    "    # login\n",
    "    print(\"Logging in\")\n",
    "    s.post(loginurl, creds)\n",
    "    \n",
    "    def extract_from_to(label):\n",
    "        m = re.match(r'.*\\((.*)\\).*\\((.*)\\)', label)\n",
    "        return m.group(1), m.group(2)\n",
    "\n",
    "    r = s.get(showurl, params=params)\n",
    "    soup = BeautifulSoup(r.content, \"lxml\")\n",
    "    bordervalues = dict((extract_from_to(x.label.text), x.input['value'])\n",
    "                        for x in soup.form(\"div\", class_=\"dv-filter-checkbox\")\n",
    "                        if x.input.get('name', None) == 'border.values')\n",
    "\n",
    "    G = nx.Graph()\n",
    "    G.add_edges_from(iterkeys(bordervalues))\n",
    "\n",
    "    for i, edge in enumerate(G.edges()):\n",
    "        print(\"({}/{}) Edge {}->{} : \".format(i+1, G.number_of_edges(), *edge), end='') \n",
    "        exportparams['border.values'] = bordervalues[edge]\n",
    "        \n",
    "        data = []\n",
    "        for year in years:\n",
    "            print(\"{} \".format(year), end='')\n",
    "            # dateTime.dateTime cannot be passed via params, since requests seems to be encoding it too eagerly,\n",
    "            # so that transparency.entsoe.eu fails to parse it\n",
    "            url = exporturl + '?dateTime.dateTime=01.01.{}+00:00|UTC|DAY'.format(year)\n",
    "            r = s.get(url, params=exportparams)\n",
    "            while r.status_code != 200:\n",
    "                print(\"Exceeded some ip rate limit, we will retry in half a minute\")\n",
    "                time.sleep(30)\n",
    "                r = s.get(url, params=exportparams)\n",
    "            \n",
    "            assert r.headers.get('Content-Disposition').startswith('attachment'), 'Not a file'\n",
    "    \n",
    "            ser = pd.read_csv(StringIO(r.content), na_values=['n/e', '-'])\n",
    "            ser['Time (UTC)'] = pd.to_datetime(ser['Time (UTC)'].str[:len(\"DD.MM.YYYY HH:mm\")], format='%d.%m.%Y %H:%M')\n",
    "            ser = ser.set_index('Time (UTC)') \\\n",
    "                     .dropna(how='all').fillna(0.) # if either is not none fill it with 0., but drop the rest\n",
    "            data.append(ser.iloc[:,1] - ser.iloc[:,0])\n",
    "        flows[edge] = pd.concat(data)\n",
    "        print('.')"
   ]
  },
  {
   "cell_type": "code",
   "execution_count": null,
   "metadata": {
    "collapsed": true
   },
   "outputs": [],
   "source": [
    "flows = pd.DataFrame(flows, columns=pd.MultiIndex.from_tuples(G.edges()))\n",
    "flows"
   ]
  },
  {
   "cell_type": "code",
   "execution_count": 23,
   "metadata": {
    "collapsed": false
   },
   "outputs": [],
   "source": [
    "flows.to_pickle('flows.pickle')"
   ]
  },
  {
   "cell_type": "code",
   "execution_count": null,
   "metadata": {
    "collapsed": true
   },
   "outputs": [],
   "source": [
    "bordervalues\n",
    "exportparams"
   ]
  }
 ],
 "metadata": {
  "hide_input": false,
  "kernelspec": {
   "display_name": "Python 3",
   "language": "python",
   "name": "python3"
  },
  "language_info": {
   "codemirror_mode": {
    "name": "ipython",
    "version": 3
   },
   "file_extension": ".py",
   "mimetype": "text/x-python",
   "name": "python",
   "nbconvert_exporter": "python",
   "pygments_lexer": "ipython3",
   "version": "3.5.1"
  }
 },
 "nbformat": 4,
 "nbformat_minor": 0
}

{
 "cells": [
  {
   "cell_type": "code",
   "execution_count": 1,
   "metadata": {
    "collapsed": false
   },
   "outputs": [
    {
     "ename": "ImportError",
     "evalue": "No module named 'tqdm'",
     "output_type": "error",
     "traceback": [
      "\u001b[0;31m---------------------------------------------------------------------------\u001b[0m",
      "\u001b[0;31mImportError\u001b[0m                               Traceback (most recent call last)",
      "\u001b[0;32m<ipython-input-1-b8e397ce03c8>\u001b[0m in \u001b[0;36m<module>\u001b[0;34m()\u001b[0m\n\u001b[0;32m----> 1\u001b[0;31m \u001b[1;32mimport\u001b[0m \u001b[0mtqdm\u001b[0m\u001b[1;33m\u001b[0m\u001b[0m\n\u001b[0m",
      "\u001b[0;31mImportError\u001b[0m: No module named 'tqdm'"
     ]
    }
   ],
   "source": [
    "import tqdm"
   ]
  },
  {
   "cell_type": "code",
   "execution_count": 38,
   "metadata": {
    "collapsed": true
   },
   "outputs": [],
   "source": [
    "import pandas as pd\n",
    "import datetime"
   ]
  },
  {
   "cell_type": "code",
   "execution_count": 30,
   "metadata": {
    "collapsed": false
   },
   "outputs": [],
   "source": [
    "import yaml\n",
    "import logging\n",
    "\n",
    "%load_ext autoreload\n",
    "%autoreload 2 \n",
    "\n",
    "from test_scripts.test import test_function"
   ]
  },
  {
   "cell_type": "code",
   "execution_count": 7,
   "metadata": {
    "collapsed": false
   },
   "outputs": [],
   "source": [
    "logger = logging.getLogger('log')\n",
    "logger.setLevel('INFO')\n",
    "\n",
    "logger2 = logging.getLogger('log2')\n",
    "logger2.setLevel('DEBUG')"
   ]
  },
  {
   "cell_type": "code",
   "execution_count": 8,
   "metadata": {
    "collapsed": false,
    "scrolled": true
   },
   "outputs": [
    {
     "name": "stderr",
     "output_type": "stream",
     "text": [
      "DEBUG:log2:hallo2 debug\n",
      "INFO:log:hallo1 info\n",
      "INFO:log2:hallo2 info\n"
     ]
    }
   ],
   "source": [
    "logger.debug('hallo1 debug')\n",
    "logger2.debug('hallo2 debug')\n",
    "logger.info('hallo1 info')\n",
    "logger2.info('hallo2 info')"
   ]
  },
  {
   "cell_type": "code",
   "execution_count": 2,
   "metadata": {
    "collapsed": false,
    "scrolled": true
   },
   "outputs": [
    {
     "name": "stderr",
     "output_type": "stream",
     "text": [
      "DEBUG:log2:hallo2 debug\n",
      "INFO:log:hallo1 info\n",
      "INFO:log2:hallo2 info\n"
     ]
    }
   ],
   "source": [
    "test_function()"
   ]
  },
  {
   "cell_type": "code",
   "execution_count": 14,
   "metadata": {
    "collapsed": false
   },
   "outputs": [
    {
     "name": "stdout",
     "output_type": "stream",
     "text": [
      "[                                                                                                                                                                                                                                                                                                                                                                                                                ]------------------------------------------------"
     ]
    },
    {
     "ename": "KeyboardInterrupt",
     "evalue": "",
     "output_type": "error",
     "traceback": [
      "\u001b[0;31m---------------------------------------------------------------------------\u001b[0m",
      "\u001b[0;31mKeyboardInterrupt\u001b[0m                         Traceback (most recent call last)",
      "\u001b[0;32m<ipython-input-14-6091206a2c27>\u001b[0m in \u001b[0;36m<module>\u001b[0;34m()\u001b[0m\n\u001b[1;32m     10\u001b[0m \u001b[1;33m\u001b[0m\u001b[0m\n\u001b[1;32m     11\u001b[0m \u001b[1;32mfor\u001b[0m \u001b[0mi\u001b[0m \u001b[1;32min\u001b[0m \u001b[0mrange\u001b[0m\u001b[1;33m(\u001b[0m\u001b[0mtoolbar_width\u001b[0m\u001b[1;33m)\u001b[0m\u001b[1;33m:\u001b[0m\u001b[1;33m\u001b[0m\u001b[0m\n\u001b[0;32m---> 12\u001b[0;31m     \u001b[0mtime\u001b[0m\u001b[1;33m.\u001b[0m\u001b[0msleep\u001b[0m\u001b[1;33m(\u001b[0m\u001b[1;36m0.1\u001b[0m\u001b[1;33m)\u001b[0m \u001b[1;31m# do real work here\u001b[0m\u001b[1;33m\u001b[0m\u001b[0m\n\u001b[0m\u001b[1;32m     13\u001b[0m     \u001b[1;31m# update the bar\u001b[0m\u001b[1;33m\u001b[0m\u001b[1;33m\u001b[0m\u001b[0m\n\u001b[1;32m     14\u001b[0m     \u001b[0msys\u001b[0m\u001b[1;33m.\u001b[0m\u001b[0mstdout\u001b[0m\u001b[1;33m.\u001b[0m\u001b[0mwrite\u001b[0m\u001b[1;33m(\u001b[0m\u001b[1;34m\"-\"\u001b[0m\u001b[1;33m)\u001b[0m\u001b[1;33m\u001b[0m\u001b[0m\n",
      "\u001b[0;31mKeyboardInterrupt\u001b[0m: "
     ]
    }
   ],
   "source": [
    "import time\n",
    "import sys\n",
    "\n",
    "toolbar_width = 400\n",
    "\n",
    "# setup toolbar\n",
    "sys.stdout.write(\"[%s]\" % (\" \" * toolbar_width))\n",
    "sys.stdout.flush()\n",
    "#sys.stdout.write(\"\\b\" * (toolbar_width+1)) # return to start of line, after '['\n",
    "\n",
    "for i in range(toolbar_width):\n",
    "    time.sleep(0.1) # do real work here\n",
    "    # update the bar\n",
    "    sys.stdout.write(\"-\")\n",
    "    sys.stdout.flush()\n",
    "\n",
    "sys.stdout.write(\"\\n\")"
   ]
  },
  {
   "cell_type": "code",
   "execution_count": 12,
   "metadata": {
    "collapsed": false
   },
   "outputs": [
    {
     "name": "stdout",
     "output_type": "stream",
     "text": [
      "[                                        ]"
     ]
    }
   ],
   "source": [
    "sys.stdout.write(\"[%s]\" % (\" \" * toolbar_width))\n",
    "sys.stdout.flush()"
   ]
  },
  {
   "cell_type": "code",
   "execution_count": 13,
   "metadata": {
    "collapsed": false
   },
   "outputs": [
    {
     "name": "stdout",
     "output_type": "stream",
     "text": [
      "----------------------------------------"
     ]
    }
   ],
   "source": [
    "for i in range(toolbar_width):\n",
    "    time.sleep(0.1) # do real work here\n",
    "    # update the bar\n",
    "    sys.stdout.write(\"-\")\n",
    "    sys.stdout.flush()"
   ]
  },
  {
   "cell_type": "code",
   "execution_count": 25,
   "metadata": {
    "collapsed": true
   },
   "outputs": [],
   "source": [
    "import time, sys\n",
    "\n",
    "# update_progress() : Displays or updates a console progress bar\n",
    "## Accepts a float between 0 and 1. Any int will be converted to a float.\n",
    "## A value under 0 represents a 'halt'.\n",
    "## A value at 1 or bigger represents 100%\n",
    "def update_progress(count, total):\n",
    "    barLength = 10 # Modify this to change the length of the progress bar\n",
    "    status = \"\"\n",
    "    progress = count / total\n",
    "    if isinstance(progress, int):\n",
    "        progress = float(progress)\n",
    "    if not isinstance(progress, float):\n",
    "        progress = 0\n",
    "        status = \"error: progress var must be float\\r\\n\"\n",
    "    if progress < 0:\n",
    "        progress = 0\n",
    "        status = \"Halt...\\r\\n\"\n",
    "    if progress >= 1:\n",
    "        progress = 1\n",
    "        status = \"Done...\\r\\n\"\n",
    "    block = int(round(barLength*progress))\n",
    "    text = \"\\rPercent: [{0}] {1}/{2} {3}\".format( \"#\"*block + \"-\"*(barLength-block), count, total, status)\n",
    "    sys.stdout.write(text)\n",
    "    sys.stdout.flush()"
   ]
  },
  {
   "cell_type": "code",
   "execution_count": 28,
   "metadata": {
    "collapsed": false
   },
   "outputs": [
    {
     "name": "stdout",
     "output_type": "stream",
     "text": [
      "\n",
      "progress : 0->1\n",
      "Percent: [##########] 99/100 "
     ]
    }
   ],
   "source": [
    "print(\"\")\n",
    "print(\"progress : 0->1\")\n",
    "for i in range(100):\n",
    "    ti    update_progress(i, 100)me.sleep(0.1)\n",
    "\n"
   ]
  },
  {
   "cell_type": "code",
   "execution_count": null,
   "metadata": {
    "collapsed": true
   },
   "outputs": [],
   "source": [
    "# update_progress test script\n",
    "print \"progress : 'hello'\"\n",
    "update_progress(\"hello\")\n",
    "time.sleep(1)\n",
    "\n",
    "print \"progress : 3\"\n",
    "update_progress(3)\n",
    "time.sleep(1)\n",
    "\n",
    "print \"progress : [23]\"\n",
    "update_progress([23])\n",
    "time.sleep(1)\n",
    "\n",
    "print \"\"\n",
    "print \"progress : -10\"\n",
    "update_progress(-10)\n",
    "time.sleep(2)\n",
    "\n",
    "print \"\"\n",
    "print \"progress : 10\"\n",
    "update_progress(10)\n",
    "time.sleep(2)\n",
    "\n",
    "print \"\"\n",
    "print \"progress : 0->1\"\n",
    "for i in range(100):\n",
    "    time.sleep(0.1)\n",
    "    update_progress(i/100.0)\n",
    "\n",
    "print \"\"\n",
    "print \"Test completed\"\n",
    "time.sleep(10)"
   ]
  },
  {
   "cell_type": "code",
   "execution_count": 33,
   "metadata": {
    "collapsed": false,
    "scrolled": true
   },
   "outputs": [
    {
     "data": {
      "text/plain": [
       "{'50Hertz': ['wind_generation_pre-offshore',\n",
       "  'wind_forecast_pre-offshore',\n",
       "  'wind_generation_with-offshore',\n",
       "  'wind_forecast_with-offshore',\n",
       "  'solar_forecast'],\n",
       " 'APG': ['generation_by_source'],\n",
       " 'Amprion': ['wind-onshore', 'solar'],\n",
       " 'CEPS': ['wind_pv'],\n",
       " 'ENTSO-E Data Portal': ['load'],\n",
       " 'Elia': ['wind-onshore', 'wind-offshore', 'solar'],\n",
       " 'Energinet.dk': ['prices_wind_solar'],\n",
       " 'OPSD': ['capacities'],\n",
       " 'OeMag': ['wind_1', 'wind_2', 'wind_3'],\n",
       " 'PSE': ['wind'],\n",
       " 'RTE': ['wind_solar'],\n",
       " 'Svenska Kraftnaet': ['wind_solar_1',\n",
       "  'wind_solar_2',\n",
       "  'wind_solar_3',\n",
       "  'wind_solar_4',\n",
       "  'wind_solar_5',\n",
       "  'wind_solar_6',\n",
       "  'wind_solar_7'],\n",
       " 'TenneT': ['wind', 'solar'],\n",
       " 'TransnetBW': ['wind-onshore', 'solar']}"
      ]
     },
     "execution_count": 33,
     "metadata": {},
     "output_type": "execute_result"
    }
   ],
   "source": [
    "yaml.load('''\n",
    "OPSD:\n",
    "    - capacities\n",
    "ENTSO-E Data Portal:\n",
    "    - load\n",
    "'50Hertz':\n",
    "    - wind_generation_pre-offshore\n",
    "    - wind_forecast_pre-offshore\n",
    "    - wind_generation_with-offshore\n",
    "    - wind_forecast_with-offshore\n",
    "    - solar_forecast\n",
    "Amprion:\n",
    "    - wind-onshore\n",
    "    - solar\n",
    "TenneT:\n",
    "    - wind\n",
    "    - solar\n",
    "TransnetBW:\n",
    "    - wind-onshore\n",
    "    - solar\n",
    "Svenska Kraftnaet: \n",
    "    - wind_solar_1\n",
    "    - wind_solar_2\n",
    "    - wind_solar_3\n",
    "    - wind_solar_4\n",
    "    - wind_solar_5\n",
    "    - wind_solar_6\n",
    "    - wind_solar_7   \n",
    "Elia: \n",
    "    - wind-onshore\n",
    "    - wind-offshore\n",
    "    - solar\n",
    "Energinet.dk:\n",
    "    - prices_wind_solar\n",
    "RTE: \n",
    "    - wind_solar\n",
    "CEPS: \n",
    "    - wind_pv\n",
    "OeMag: \n",
    "    - wind_1  \n",
    "    - wind_2\n",
    "    - wind_3\n",
    "PSE:\n",
    "    - wind\n",
    "APG:\n",
    "    - generation_by_source\n",
    "''')"
   ]
  },
  {
   "cell_type": "code",
   "execution_count": 44,
   "metadata": {
    "collapsed": false
   },
   "outputs": [
    {
     "data": {
      "text/plain": [
       "datetime.date(2016, 1, 1)"
      ]
     },
     "execution_count": 44,
     "metadata": {},
     "output_type": "execute_result"
    }
   ],
   "source": [
    "container = '2016-01-01_2016-08-07'\n",
    "yaml.load(container.split('_')[0])"
   ]
  },
  {
   "cell_type": "code",
   "execution_count": null,
   "metadata": {
    "collapsed": true
   },
   "outputs": [],
   "source": [
    "#work in progress\n",
    "with open(sources_yaml_path, 'r') as f:\n",
    "    sources = yaml.load(f.read())\n",
    "for res in ['15min', '60min']:\n",
    "    xxx = {source_name: {k: v['start']}\n",
    "           for k, v in sources[source_name].items()\n",
    "           if v['resolution'] == res}\n",
    "    print(yaml.dump({res: xxx}, default_flow_style=False))\n",
    "    \n",
    "with open(sources_yaml_path, 'r') as f:\n",
    "    sources = yaml.load(f.read())\n",
    "for res in ['15min', '60min']:\n",
    "    for k1, v1 in sources.items():\n",
    "        for k2, v2 in v1.items():\n",
    "            l \n",
    "        print(yaml.dump({k1: list(v.keys())}, default_flow_style=False))\n",
    "\n",
    "with open(sources_yaml_path, 'r') as f:\n",
    "    sources = yaml.load(f.read())\n",
    "for res in ['15min', '60min']:\n",
    "    res_data = {k: {k2: v2['start']\n",
    "                    for k2, v2 in v.items()\n",
    "                    if v2['resolution'] == res}\n",
    "                for k, v in sources.items()\n",
    "                if v2['resolution'] == res}\n",
    "    print(yaml.dump({res: res_data}, default_flow_style=False))\n",
    "\n",
    "#{k: list(v.keys())}   # + v2['end']   datetime.strftime(v2['start'], '%Y-%m-%D' + '-'\n"
   ]
  },
  {
   "cell_type": "code",
   "execution_count": null,
   "metadata": {
    "collapsed": true
   },
   "outputs": [],
   "source": [
    "with open(sources_yaml_path, 'r') as f:\n",
    "    sources = yaml.load(f.read())\n",
    "\n",
    "# If subset is given, only keep source_name keys in subset\n",
    "if subset:\n",
    "    sources = {k: v for k, v in sources.items() if k in subset.keys() and v in subset[k]}"
   ]
  },
  {
   "cell_type": "code",
   "execution_count": 1,
   "metadata": {
    "collapsed": true
   },
   "outputs": [],
   "source": [
    "import pytz\n",
    "dst_transitions_spring = [\n",
    "    d.replace(hour=2)\n",
    "    for d in pytz.timezone('Europe/Copenhagen')._utc_transition_times\n",
    "    if d.year >= 2000]# and d.month == 3]"
   ]
  },
  {
   "cell_type": "code",
   "execution_count": 2,
   "metadata": {
    "collapsed": false,
    "scrolled": true
   },
   "outputs": [
    {
     "data": {
      "text/plain": [
       "[datetime.datetime(2000, 3, 26, 2, 0),\n",
       " datetime.datetime(2000, 10, 29, 2, 0),\n",
       " datetime.datetime(2001, 3, 25, 2, 0),\n",
       " datetime.datetime(2001, 10, 28, 2, 0),\n",
       " datetime.datetime(2002, 3, 31, 2, 0),\n",
       " datetime.datetime(2002, 10, 27, 2, 0),\n",
       " datetime.datetime(2003, 3, 30, 2, 0),\n",
       " datetime.datetime(2003, 10, 26, 2, 0),\n",
       " datetime.datetime(2004, 3, 28, 2, 0),\n",
       " datetime.datetime(2004, 10, 31, 2, 0),\n",
       " datetime.datetime(2005, 3, 27, 2, 0),\n",
       " datetime.datetime(2005, 10, 30, 2, 0),\n",
       " datetime.datetime(2006, 3, 26, 2, 0),\n",
       " datetime.datetime(2006, 10, 29, 2, 0),\n",
       " datetime.datetime(2007, 3, 25, 2, 0),\n",
       " datetime.datetime(2007, 10, 28, 2, 0),\n",
       " datetime.datetime(2008, 3, 30, 2, 0),\n",
       " datetime.datetime(2008, 10, 26, 2, 0),\n",
       " datetime.datetime(2009, 3, 29, 2, 0),\n",
       " datetime.datetime(2009, 10, 25, 2, 0),\n",
       " datetime.datetime(2010, 3, 28, 2, 0),\n",
       " datetime.datetime(2010, 10, 31, 2, 0),\n",
       " datetime.datetime(2011, 3, 27, 2, 0),\n",
       " datetime.datetime(2011, 10, 30, 2, 0),\n",
       " datetime.datetime(2012, 3, 25, 2, 0),\n",
       " datetime.datetime(2012, 10, 28, 2, 0),\n",
       " datetime.datetime(2013, 3, 31, 2, 0),\n",
       " datetime.datetime(2013, 10, 27, 2, 0),\n",
       " datetime.datetime(2014, 3, 30, 2, 0),\n",
       " datetime.datetime(2014, 10, 26, 2, 0),\n",
       " datetime.datetime(2015, 3, 29, 2, 0),\n",
       " datetime.datetime(2015, 10, 25, 2, 0),\n",
       " datetime.datetime(2016, 3, 27, 2, 0),\n",
       " datetime.datetime(2016, 10, 30, 2, 0),\n",
       " datetime.datetime(2017, 3, 26, 2, 0),\n",
       " datetime.datetime(2017, 10, 29, 2, 0),\n",
       " datetime.datetime(2018, 3, 25, 2, 0),\n",
       " datetime.datetime(2018, 10, 28, 2, 0),\n",
       " datetime.datetime(2019, 3, 31, 2, 0),\n",
       " datetime.datetime(2019, 10, 27, 2, 0),\n",
       " datetime.datetime(2020, 3, 29, 2, 0),\n",
       " datetime.datetime(2020, 10, 25, 2, 0),\n",
       " datetime.datetime(2021, 3, 28, 2, 0),\n",
       " datetime.datetime(2021, 10, 31, 2, 0),\n",
       " datetime.datetime(2022, 3, 27, 2, 0),\n",
       " datetime.datetime(2022, 10, 30, 2, 0),\n",
       " datetime.datetime(2023, 3, 26, 2, 0),\n",
       " datetime.datetime(2023, 10, 29, 2, 0),\n",
       " datetime.datetime(2024, 3, 31, 2, 0),\n",
       " datetime.datetime(2024, 10, 27, 2, 0),\n",
       " datetime.datetime(2025, 3, 30, 2, 0),\n",
       " datetime.datetime(2025, 10, 26, 2, 0),\n",
       " datetime.datetime(2026, 3, 29, 2, 0),\n",
       " datetime.datetime(2026, 10, 25, 2, 0),\n",
       " datetime.datetime(2027, 3, 28, 2, 0),\n",
       " datetime.datetime(2027, 10, 31, 2, 0),\n",
       " datetime.datetime(2028, 3, 26, 2, 0),\n",
       " datetime.datetime(2028, 10, 29, 2, 0),\n",
       " datetime.datetime(2029, 3, 25, 2, 0),\n",
       " datetime.datetime(2029, 10, 28, 2, 0),\n",
       " datetime.datetime(2030, 3, 31, 2, 0),\n",
       " datetime.datetime(2030, 10, 27, 2, 0),\n",
       " datetime.datetime(2031, 3, 30, 2, 0),\n",
       " datetime.datetime(2031, 10, 26, 2, 0),\n",
       " datetime.datetime(2032, 3, 28, 2, 0),\n",
       " datetime.datetime(2032, 10, 31, 2, 0),\n",
       " datetime.datetime(2033, 3, 27, 2, 0),\n",
       " datetime.datetime(2033, 10, 30, 2, 0),\n",
       " datetime.datetime(2034, 3, 26, 2, 0),\n",
       " datetime.datetime(2034, 10, 29, 2, 0),\n",
       " datetime.datetime(2035, 3, 25, 2, 0),\n",
       " datetime.datetime(2035, 10, 28, 2, 0),\n",
       " datetime.datetime(2036, 3, 30, 2, 0),\n",
       " datetime.datetime(2036, 10, 26, 2, 0),\n",
       " datetime.datetime(2037, 3, 29, 2, 0),\n",
       " datetime.datetime(2037, 10, 25, 2, 0)]"
      ]
     },
     "execution_count": 2,
     "metadata": {},
     "output_type": "execute_result"
    }
   ],
   "source": [
    "dst_transitions_spring"
   ]
  },
  {
   "cell_type": "code",
   "execution_count": 47,
   "metadata": {
    "collapsed": true
   },
   "outputs": [],
   "source": [
    "import glob"
   ]
  },
  {
   "cell_type": "code",
   "execution_count": 48,
   "metadata": {
    "collapsed": false
   },
   "outputs": [
    {
     "data": {
      "text/plain": [
       "[]"
      ]
     },
     "execution_count": 48,
     "metadata": {},
     "output_type": "execute_result"
    }
   ],
   "source": [
    "glob.glob(sys.argv[1])"
   ]
  },
  {
   "cell_type": "code",
   "execution_count": 9,
   "metadata": {
    "collapsed": false
   },
   "outputs": [],
   "source": [
    "version = '2016-07-14'\n",
    "filepath = 'original_data.zip'\n",
    "url = ('http://data.open-power-system-data.org/time_series/'\n",
    "       '{}/original_data/{}'.format(version, filepath))"
   ]
  },
  {
   "cell_type": "code",
   "execution_count": 8,
   "metadata": {
    "collapsed": false
   },
   "outputs": [
    {
     "data": {
      "text/plain": [
       "'http://data.open-power-system-data.org/time_series/2016-07-14/original_data/original_data.zip'"
      ]
     },
     "execution_count": 8,
     "metadata": {},
     "output_type": "execute_result"
    }
   ],
   "source": [
    "url"
   ]
  },
  {
   "cell_type": "markdown",
   "metadata": {},
   "source": [
    "![OPSD-Tree](http://open-power-system-data.org/2016-10-25-opsd_tree.svg)"
   ]
  },
  {
   "cell_type": "code",
   "execution_count": null,
   "metadata": {
    "collapsed": true
   },
   "outputs": [],
   "source": [
    "pd.Series([np.nan, '', 'c', 'd']).str.cat(['A', 'B', 'C', np.nan], sep=',', na_rep='-')"
   ]
  },
  {
   "cell_type": "code",
   "execution_count": 4,
   "metadata": {
    "collapsed": false
   },
   "outputs": [],
   "source": [
    "a = ('solar', 'DE-50Hertz', 'generation')"
   ]
  },
  {
   "cell_type": "code",
   "execution_count": 28,
   "metadata": {
    "collapsed": false
   },
   "outputs": [
    {
     "data": {
      "text/plain": [
       "[2007, 2008, 2009, 2010, 2011, 2012, 2013, 2014]"
      ]
     },
     "execution_count": 28,
     "metadata": {},
     "output_type": "execute_result"
    }
   ],
   "source": [
    "list(range(2007,2015))"
   ]
  },
  {
   "cell_type": "code",
   "execution_count": 26,
   "metadata": {
    "collapsed": false
   },
   "outputs": [
    {
     "data": {
      "text/plain": [
       "'solar_DE-50Hertz_generation_interpolated'"
      ]
     },
     "execution_count": 26,
     "metadata": {},
     "output_type": "execute_result"
    }
   ],
   "source": [
    "'_'.join(a + ('interpolated',))\n",
    "    "
   ]
  },
  {
   "cell_type": "code",
   "execution_count": null,
   "metadata": {
    "collapsed": true
   },
   "outputs": [],
   "source": [
    "df = "
   ]
  },
  {
   "cell_type": "code",
   "execution_count": 10,
   "metadata": {
    "collapsed": true
   },
   "outputs": [],
   "source": [
    "import pandas as pd\n",
    "import numpy as np"
   ]
  },
  {
   "cell_type": "code",
   "execution_count": 11,
   "metadata": {
    "collapsed": false
   },
   "outputs": [],
   "source": [
    "df2 = pd.DataFrame(np.random.randn(10, 5))\n",
    "df3 = pd.DataFrame(np.random.randn(10, 5),\n",
    "                columns=['a', 'b', 'c', 'd', 'e'])"
   ]
  },
  {
   "cell_type": "code",
   "execution_count": 13,
   "metadata": {
    "collapsed": false,
    "scrolled": true
   },
   "outputs": [
    {
     "ename": "ValueError",
     "evalue": "Length of values does not match length of index",
     "output_type": "error",
     "traceback": [
      "\u001b[0;31m---------------------------------------------------------------------------\u001b[0m",
      "\u001b[0;31mValueError\u001b[0m                                Traceback (most recent call last)",
      "\u001b[0;32m<ipython-input-13-7dae10ff458d>\u001b[0m in \u001b[0;36m<module>\u001b[0;34m()\u001b[0m\n\u001b[0;32m----> 1\u001b[0;31m \u001b[0mdf3\u001b[0m\u001b[1;33m[\u001b[0m\u001b[1;34m'comment'\u001b[0m\u001b[1;33m]\u001b[0m \u001b[1;33m=\u001b[0m \u001b[0ma\u001b[0m\u001b[1;33m\u001b[0m\u001b[0m\n\u001b[0m",
      "\u001b[0;32mC:\\Miniconda3\\envs\\time_series_2016-10-05\\lib\\site-packages\\pandas\\core\\frame.py\u001b[0m in \u001b[0;36m__setitem__\u001b[0;34m(self, key, value)\u001b[0m\n\u001b[1;32m   2355\u001b[0m         \u001b[1;32melse\u001b[0m\u001b[1;33m:\u001b[0m\u001b[1;33m\u001b[0m\u001b[0m\n\u001b[1;32m   2356\u001b[0m             \u001b[1;31m# set column\u001b[0m\u001b[1;33m\u001b[0m\u001b[1;33m\u001b[0m\u001b[0m\n\u001b[0;32m-> 2357\u001b[0;31m             \u001b[0mself\u001b[0m\u001b[1;33m.\u001b[0m\u001b[0m_set_item\u001b[0m\u001b[1;33m(\u001b[0m\u001b[0mkey\u001b[0m\u001b[1;33m,\u001b[0m \u001b[0mvalue\u001b[0m\u001b[1;33m)\u001b[0m\u001b[1;33m\u001b[0m\u001b[0m\n\u001b[0m\u001b[1;32m   2358\u001b[0m \u001b[1;33m\u001b[0m\u001b[0m\n\u001b[1;32m   2359\u001b[0m     \u001b[1;32mdef\u001b[0m \u001b[0m_setitem_slice\u001b[0m\u001b[1;33m(\u001b[0m\u001b[0mself\u001b[0m\u001b[1;33m,\u001b[0m \u001b[0mkey\u001b[0m\u001b[1;33m,\u001b[0m \u001b[0mvalue\u001b[0m\u001b[1;33m)\u001b[0m\u001b[1;33m:\u001b[0m\u001b[1;33m\u001b[0m\u001b[0m\n",
      "\u001b[0;32mC:\\Miniconda3\\envs\\time_series_2016-10-05\\lib\\site-packages\\pandas\\core\\frame.py\u001b[0m in \u001b[0;36m_set_item\u001b[0;34m(self, key, value)\u001b[0m\n\u001b[1;32m   2421\u001b[0m \u001b[1;33m\u001b[0m\u001b[0m\n\u001b[1;32m   2422\u001b[0m         \u001b[0mself\u001b[0m\u001b[1;33m.\u001b[0m\u001b[0m_ensure_valid_index\u001b[0m\u001b[1;33m(\u001b[0m\u001b[0mvalue\u001b[0m\u001b[1;33m)\u001b[0m\u001b[1;33m\u001b[0m\u001b[0m\n\u001b[0;32m-> 2423\u001b[0;31m         \u001b[0mvalue\u001b[0m \u001b[1;33m=\u001b[0m \u001b[0mself\u001b[0m\u001b[1;33m.\u001b[0m\u001b[0m_sanitize_column\u001b[0m\u001b[1;33m(\u001b[0m\u001b[0mkey\u001b[0m\u001b[1;33m,\u001b[0m \u001b[0mvalue\u001b[0m\u001b[1;33m)\u001b[0m\u001b[1;33m\u001b[0m\u001b[0m\n\u001b[0m\u001b[1;32m   2424\u001b[0m         \u001b[0mNDFrame\u001b[0m\u001b[1;33m.\u001b[0m\u001b[0m_set_item\u001b[0m\u001b[1;33m(\u001b[0m\u001b[0mself\u001b[0m\u001b[1;33m,\u001b[0m \u001b[0mkey\u001b[0m\u001b[1;33m,\u001b[0m \u001b[0mvalue\u001b[0m\u001b[1;33m)\u001b[0m\u001b[1;33m\u001b[0m\u001b[0m\n\u001b[1;32m   2425\u001b[0m \u001b[1;33m\u001b[0m\u001b[0m\n",
      "\u001b[0;32mC:\\Miniconda3\\envs\\time_series_2016-10-05\\lib\\site-packages\\pandas\\core\\frame.py\u001b[0m in \u001b[0;36m_sanitize_column\u001b[0;34m(self, key, value)\u001b[0m\n\u001b[1;32m   2576\u001b[0m \u001b[1;33m\u001b[0m\u001b[0m\n\u001b[1;32m   2577\u001b[0m             \u001b[1;31m# turn me into an ndarray\u001b[0m\u001b[1;33m\u001b[0m\u001b[1;33m\u001b[0m\u001b[0m\n\u001b[0;32m-> 2578\u001b[0;31m             \u001b[0mvalue\u001b[0m \u001b[1;33m=\u001b[0m \u001b[0m_sanitize_index\u001b[0m\u001b[1;33m(\u001b[0m\u001b[0mvalue\u001b[0m\u001b[1;33m,\u001b[0m \u001b[0mself\u001b[0m\u001b[1;33m.\u001b[0m\u001b[0mindex\u001b[0m\u001b[1;33m,\u001b[0m \u001b[0mcopy\u001b[0m\u001b[1;33m=\u001b[0m\u001b[1;32mFalse\u001b[0m\u001b[1;33m)\u001b[0m\u001b[1;33m\u001b[0m\u001b[0m\n\u001b[0m\u001b[1;32m   2579\u001b[0m             \u001b[1;32mif\u001b[0m \u001b[1;32mnot\u001b[0m \u001b[0misinstance\u001b[0m\u001b[1;33m(\u001b[0m\u001b[0mvalue\u001b[0m\u001b[1;33m,\u001b[0m \u001b[1;33m(\u001b[0m\u001b[0mnp\u001b[0m\u001b[1;33m.\u001b[0m\u001b[0mndarray\u001b[0m\u001b[1;33m,\u001b[0m \u001b[0mIndex\u001b[0m\u001b[1;33m)\u001b[0m\u001b[1;33m)\u001b[0m\u001b[1;33m:\u001b[0m\u001b[1;33m\u001b[0m\u001b[0m\n\u001b[1;32m   2580\u001b[0m                 \u001b[1;32mif\u001b[0m \u001b[0misinstance\u001b[0m\u001b[1;33m(\u001b[0m\u001b[0mvalue\u001b[0m\u001b[1;33m,\u001b[0m \u001b[0mlist\u001b[0m\u001b[1;33m)\u001b[0m \u001b[1;32mand\u001b[0m \u001b[0mlen\u001b[0m\u001b[1;33m(\u001b[0m\u001b[0mvalue\u001b[0m\u001b[1;33m)\u001b[0m \u001b[1;33m>\u001b[0m \u001b[1;36m0\u001b[0m\u001b[1;33m:\u001b[0m\u001b[1;33m\u001b[0m\u001b[0m\n",
      "\u001b[0;32mC:\\Miniconda3\\envs\\time_series_2016-10-05\\lib\\site-packages\\pandas\\core\\series.py\u001b[0m in \u001b[0;36m_sanitize_index\u001b[0;34m(data, index, copy)\u001b[0m\n\u001b[1;32m   2768\u001b[0m \u001b[1;33m\u001b[0m\u001b[0m\n\u001b[1;32m   2769\u001b[0m     \u001b[1;32mif\u001b[0m \u001b[0mlen\u001b[0m\u001b[1;33m(\u001b[0m\u001b[0mdata\u001b[0m\u001b[1;33m)\u001b[0m \u001b[1;33m!=\u001b[0m \u001b[0mlen\u001b[0m\u001b[1;33m(\u001b[0m\u001b[0mindex\u001b[0m\u001b[1;33m)\u001b[0m\u001b[1;33m:\u001b[0m\u001b[1;33m\u001b[0m\u001b[0m\n\u001b[0;32m-> 2770\u001b[0;31m         \u001b[1;32mraise\u001b[0m \u001b[0mValueError\u001b[0m\u001b[1;33m(\u001b[0m\u001b[1;34m'Length of values does not match length of '\u001b[0m \u001b[1;34m'index'\u001b[0m\u001b[1;33m)\u001b[0m\u001b[1;33m\u001b[0m\u001b[0m\n\u001b[0m\u001b[1;32m   2771\u001b[0m \u001b[1;33m\u001b[0m\u001b[0m\n\u001b[1;32m   2772\u001b[0m     \u001b[1;32mif\u001b[0m \u001b[0misinstance\u001b[0m\u001b[1;33m(\u001b[0m\u001b[0mdata\u001b[0m\u001b[1;33m,\u001b[0m \u001b[0mPeriodIndex\u001b[0m\u001b[1;33m)\u001b[0m\u001b[1;33m:\u001b[0m\u001b[1;33m\u001b[0m\u001b[0m\n",
      "\u001b[0;31mValueError\u001b[0m: Length of values does not match length of index"
     ]
    }
   ],
   "source": [
    "df3['comment'] = a"
   ]
  },
  {
   "cell_type": "code",
   "execution_count": 6,
   "metadata": {
    "collapsed": true
   },
   "outputs": [],
   "source": [
    "headers = ['region', 'variable', 'attribute', 'source', 'web']"
   ]
  },
  {
   "cell_type": "code",
   "execution_count": 11,
   "metadata": {
    "collapsed": false
   },
   "outputs": [],
   "source": [
    "url = 'www.sdgfafdsgf.df'\n",
    "colmap = {\n",
    "    'Sumaryczna generacja źródeł wiatrowych': {\n",
    "        'variable': 'wind',\n",
    "        'region' : 'PL',\n",
    "        'attribute': 'generation',\n",
    "        'source': 'PSE',\n",
    "        'web': url\n",
    "    }\n",
    "}\n"
   ]
  },
  {
   "cell_type": "code",
   "execution_count": null,
   "metadata": {
    "collapsed": true
   },
   "outputs": [],
   "source": [
    "tuples = [colmap[col] for col in df.columns]"
   ]
  },
  {
   "cell_type": "code",
   "execution_count": 13,
   "metadata": {
    "collapsed": false
   },
   "outputs": [
    {
     "data": {
      "text/plain": [
       "('PL', 'wind', 'generation', 'PSE', 'www.sdgfafdsgf.df')"
      ]
     },
     "execution_count": 13,
     "metadata": {},
     "output_type": "execute_result"
    }
   ],
   "source": [
    "tuple(colmap['Sumaryczna generacja źródeł wiatrowych'][level] for level in headers)"
   ]
  },
  {
   "cell_type": "code",
   "execution_count": 9,
   "metadata": {
    "collapsed": false
   },
   "outputs": [
    {
     "data": {
      "text/plain": [
       "<generator object <genexpr> at 0x000002187FF41FC0>"
      ]
     },
     "execution_count": 9,
     "metadata": {},
     "output_type": "execute_result"
    }
   ],
   "source": [
    "tuples"
   ]
  }
 ],
 "metadata": {
  "anaconda-cloud": {},
  "kernelspec": {
   "display_name": "Python [conda env:time_series_2016-10-05]",
   "language": "python",
   "name": "conda-env-time_series_2016-10-05-py"
  },
  "language_info": {
   "codemirror_mode": {
    "name": "ipython",
    "version": 3
   },
   "file_extension": ".py",
   "mimetype": "text/x-python",
   "name": "python",
   "nbconvert_exporter": "python",
   "pygments_lexer": "ipython3",
   "version": "3.5.2"
  }
 },
 "nbformat": 4,
 "nbformat_minor": 1
}
